{
 "cells": [
  {
   "cell_type": "markdown",
   "id": "2d8d3e0e",
   "metadata": {},
   "source": [
    "### 1. Write a program to solve the following system of linear equations using Jacobi & Gauss-Seidel iterative"
   ]
  },
  {
   "cell_type": "code",
   "execution_count": 428,
   "id": "bf00a668",
   "metadata": {},
   "outputs": [
    {
     "name": "stdout",
     "output_type": "stream",
     "text": [
      "[ 0.99999936 -0.99999936  1.00000004 -0.9999989 ]\n"
     ]
    }
   ],
   "source": [
    "import numpy as np \n",
    "C = np.array([[7, 1, -1, 2], [1, 8, 0, -2], [-1, 0, 4, -1], [2, -2, -1, 6]], dtype = float)\n",
    "p = np.array([3, -5, 4, -3], dtype = float)\n",
    "def Jacobi(A, B):\n",
    "    n = np.shape(A)[0]\n",
    "    x = np.zeros(n)\n",
    "    L = np.tril(A, k = -1)\n",
    "    U = np.triu(A, k = 1)\n",
    "    D = np.diag(A, k = 0)\n",
    "    i = 0\n",
    "\n",
    "    error = 1.0\n",
    "    while i>=0:\n",
    "        x0 = x.copy()\n",
    "        d = (-L - U) @ x + B\n",
    "        for j in range(n):\n",
    "            x[j] = d[j]/D[j]\n",
    "        error = np.amax(abs(x - x0))\n",
    "        if error <= 1e-6:\n",
    "            return x\n",
    "        i+=1\n",
    "print(Jacobi(C, p))"
   ]
  },
  {
   "cell_type": "code",
   "execution_count": 515,
   "id": "f7ba76a2",
   "metadata": {},
   "outputs": [
    {
     "name": "stdout",
     "output_type": "stream",
     "text": [
      "[ 0.9999999  -0.99999992  1.00000004 -0.99999993]\n"
     ]
    }
   ],
   "source": [
    "def Gauss_s(A, B):\n",
    "    n = np.shape(A)[0]\n",
    "    x = np.zeros(n)\n",
    "    L = np.tril(A, k = 0)\n",
    "    U = np.triu(A, k = 1)\n",
    "    i = 0\n",
    "    while i>=0:\n",
    "        x0 = x.copy()\n",
    "        d = B - U @ x\n",
    "        for p in range(0, n):\n",
    "            x[p] = (d[p] - np.dot(np.delete(L[p, :], p), np.delete(x, p)))/L[p, p]\n",
    "        error = np.amax(abs(x - x0))\n",
    "        if error <=0.000001:\n",
    "            return x\n",
    "        i+=1\n",
    "print(Gauss_s(C, p))"
   ]
  },
  {
   "cell_type": "markdown",
   "id": "52c88172",
   "metadata": {},
   "source": [
    "## 2. Write a program to find the largest and smallest eigenvalue of the following matrix using power method"
   ]
  },
  {
   "cell_type": "code",
   "execution_count": 2,
   "id": "c4ba207c",
   "metadata": {},
   "outputs": [
    {
     "data": {
      "text/plain": [
       "(9.999997680859941, 1.0000004551407622)"
      ]
     },
     "execution_count": 2,
     "metadata": {},
     "output_type": "execute_result"
    }
   ],
   "source": [
    "import numpy as np\n",
    "from scipy.linalg import lu_factor, lu_solve\n",
    "A =  np.array([[5, 4, 1, 1], [4, 5, 1, 1], [1, 1, 4, 2], [1, 1, 2, 4]], dtype = float)\n",
    "\n",
    "def power_iteration(A, num_iter):\n",
    "    n = np.shape(A)[0]\n",
    "    x0 = np.random.rand(A.shape[0])\n",
    "    x1 = np.random.rand(A.shape[0]) \n",
    "    for i in range(num_iter):\n",
    "        \n",
    "        vec0 = np.dot(A, x0)\n",
    "\n",
    "        vec0_norm = np.linalg.norm(vec0)\n",
    "\n",
    "        x0 = vec0 / vec0_norm\n",
    "    lu, piv = lu_factor(A)\n",
    "    for j in range(num_iter):\n",
    "        vec1 = lu_solve((lu, piv), x1)\n",
    "        \n",
    "        vec1_norm = np.linalg.norm(vec1)\n",
    "\n",
    "        x1 = vec1 / vec1_norm\n",
    "    biggest_eig = (np.inner(x0, np.dot(A, x0)))/(np.inner(x0, x0))\n",
    "    smallest_eig = (np.inner(x1, np.dot(A, x1)))/(np.inner(x1, x1))\n",
    "    return biggest_eig, smallest_eig\n",
    "\n",
    "power_iteration(A, 10)"
   ]
  },
  {
   "cell_type": "markdown",
   "id": "2c36be9e",
   "metadata": {},
   "source": [
    "## 3. Verify your results obtained in Q2 using numpy.linalg.eig function"
   ]
  },
  {
   "cell_type": "code",
   "execution_count": 471,
   "id": "2af3282a",
   "metadata": {},
   "outputs": [
    {
     "name": "stdout",
     "output_type": "stream",
     "text": [
      "9.999999999999996\n",
      "1.0000000000000004\n"
     ]
    }
   ],
   "source": [
    "import numpy.linalg as LA\n",
    "print(np.amax(LA.eig(A)[0]))\n",
    "print(np.amin(LA.eig(A)[0]))"
   ]
  }
 ],
 "metadata": {
  "kernelspec": {
   "display_name": "Python 3 (ipykernel)",
   "language": "python",
   "name": "python3"
  },
  "language_info": {
   "codemirror_mode": {
    "name": "ipython",
    "version": 3
   },
   "file_extension": ".py",
   "mimetype": "text/x-python",
   "name": "python",
   "nbconvert_exporter": "python",
   "pygments_lexer": "ipython3",
   "version": "3.10.6"
  },
  "varInspector": {
   "cols": {
    "lenName": 16,
    "lenType": 16,
    "lenVar": 40
   },
   "kernels_config": {
    "python": {
     "delete_cmd_postfix": "",
     "delete_cmd_prefix": "del ",
     "library": "var_list.py",
     "varRefreshCmd": "print(var_dic_list())"
    },
    "r": {
     "delete_cmd_postfix": ") ",
     "delete_cmd_prefix": "rm(",
     "library": "var_list.r",
     "varRefreshCmd": "cat(var_dic_list()) "
    }
   },
   "types_to_exclude": [
    "module",
    "function",
    "builtin_function_or_method",
    "instance",
    "_Feature"
   ],
   "window_display": false
  }
 },
 "nbformat": 4,
 "nbformat_minor": 5
}
