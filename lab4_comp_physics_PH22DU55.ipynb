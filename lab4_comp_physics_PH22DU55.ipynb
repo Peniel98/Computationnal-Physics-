{
 "cells": [
  {
   "cell_type": "markdown",
   "id": "53973994",
   "metadata": {},
   "source": [
    "## Write a program to solve the following systems of linear equations using LU decomposition"
   ]
  },
  {
   "cell_type": "code",
   "execution_count": 2,
   "id": "528f076a",
   "metadata": {},
   "outputs": [
    {
     "name": "stdout",
     "output_type": "stream",
     "text": [
      "[3. 2. 1.]\n",
      "[1. 2. 3. 4.]\n"
     ]
    }
   ],
   "source": [
    "import numpy as np \n",
    "C0 = np.array([[1, -2, 1], [2, 1, -3], [4, -7, 1]], dtype = float)\n",
    "C1 = np.array([[1, 2, -1, 1], [-1, 1, 2, -1], [2, -1, 2, 2], [1, 1, -1, 2]], dtype = float)\n",
    "x1 = np.array([6, 3, 14, 8], dtype = float)\n",
    "x = np.array([0, 5, -1], dtype = float)\n",
    "\n",
    "def LU_decomposition(A, B):\n",
    "    n = len(B)\n",
    "    L = np.zeros((n, n))\n",
    "    for i in range(n-1):\n",
    "        for j in range(i+1, n):\n",
    "            fac = A[j,i]/A[i,i]\n",
    "            L[j, i] = fac\n",
    "            B[j] -= fac * B[i]\n",
    "            A[j,i] = 0\n",
    "            for k in range(i+1, n):\n",
    "                A[j, k]-= fac * A[i, k]\n",
    "    np.fill_diagonal(L, 1)\n",
    "    y0 = np.zeros((n))\n",
    "    y1 = np.zeros((n))\n",
    "    \n",
    "    for p in range(0, n):\n",
    "        y0[p] = (B[p] - np.dot(L[p, p+1:], y0[p+1:]))/L[p, p]\n",
    "          \n",
    "    for q in range(n-1, -1, -1):\n",
    "        y1[q] = (y0[q] - np.dot(A[q, q+1:], y1[q+1:]))/A[q, q]\n",
    " \n",
    "    return y1\n",
    "\n",
    "print(LU_decomposition(C0, x))\n",
    "\n",
    "print(LU_decomposition(C1, x1))"
   ]
  },
  {
   "cell_type": "markdown",
   "id": "5a36fc3f",
   "metadata": {},
   "source": [
    "## Inverse of a matrix and computation of $X = A^{-1} Y$"
   ]
  },
  {
   "cell_type": "code",
   "execution_count": 6,
   "id": "4181424a",
   "metadata": {},
   "outputs": [
    {
     "name": "stdout",
     "output_type": "stream",
     "text": [
      "[3. 2. 1.]\n",
      "[1. 2. 3. 4.]\n"
     ]
    }
   ],
   "source": [
    "def inverse_matrix(A):\n",
    "    n = np.shape(A)[0]\n",
    "    I = np.identity(n)\n",
    "    Ainv = np.zeros((n, n))\n",
    "    \n",
    "    for k in range(n):\n",
    "        Ainv[:, k] = LU_decomposition(A, I[:, k])\n",
    "        \n",
    "    return Ainv\n",
    "\n",
    "print(inverse_matrix(C0) @ x)\n",
    "print(inverse_matrix(C1) @ x1)"
   ]
  },
  {
   "cell_type": "markdown",
   "id": "cb22341c",
   "metadata": {},
   "source": [
    "## Familiarization with scipy routines: repeat (1) using scipy.linalg.lu_factor and scipy.linalg.lu_solve"
   ]
  },
  {
   "cell_type": "code",
   "execution_count": 7,
   "id": "d1ec9863",
   "metadata": {},
   "outputs": [
    {
     "name": "stdout",
     "output_type": "stream",
     "text": [
      "[3. 2. 1.]\n",
      "[1. 2. 3. 4.]\n"
     ]
    }
   ],
   "source": [
    "from scipy.linalg import lu_factor, lu_solve\n",
    "\n",
    "lu0, piv0 = lu_factor(C0)\n",
    "x0 = lu_solve((lu0, piv0), x)\n",
    "print(x0)\n",
    "lu1, piv1 = lu_factor(C1)\n",
    "x1 = lu_solve((lu1, piv1), x1)\n",
    "print(x1)"
   ]
  },
  {
   "cell_type": "code",
   "execution_count": null,
   "id": "2e42eb23",
   "metadata": {},
   "outputs": [],
   "source": []
  }
 ],
 "metadata": {
  "kernelspec": {
   "display_name": "Python 3 (ipykernel)",
   "language": "python",
   "name": "python3"
  },
  "language_info": {
   "codemirror_mode": {
    "name": "ipython",
    "version": 3
   },
   "file_extension": ".py",
   "mimetype": "text/x-python",
   "name": "python",
   "nbconvert_exporter": "python",
   "pygments_lexer": "ipython3",
   "version": "3.10.6"
  }
 },
 "nbformat": 4,
 "nbformat_minor": 5
}
